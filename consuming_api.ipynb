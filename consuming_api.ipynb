{
 "cells": [
  {
   "cell_type": "markdown",
   "metadata": {},
   "source": [
    "# Importing the libraries"
   ]
  },
  {
   "cell_type": "code",
   "execution_count": 110,
   "metadata": {},
   "outputs": [],
   "source": [
    "import requests\n",
    "import json\n",
    "import pandas as pd\n",
    "import matplotlib.pyplot as mp"
   ]
  },
  {
   "cell_type": "markdown",
   "metadata": {},
   "source": [
    "# Consuming the API"
   ]
  },
  {
   "cell_type": "code",
   "execution_count": 111,
   "metadata": {},
   "outputs": [
    {
     "data": {
      "text/plain": [
       "{'Total_geladeira': 3026.1000000000004,\n",
       " 'Total_radio': 4652.800000000001,\n",
       " 'Total_tv': 29408.5,\n",
       " 'Total_ventilador': 6110.799999999999}"
      ]
     },
     "execution_count": 111,
     "metadata": {},
     "output_type": "execute_result"
    }
   ],
   "source": [
    "data_api = requests.get('https://api.diegooliveira6.repl.co/dados_vendas')\n",
    "data_api.json()"
   ]
  },
  {
   "cell_type": "markdown",
   "metadata": {},
   "source": [
    "# Working with Dictionary and JSON"
   ]
  },
  {
   "cell_type": "code",
   "execution_count": 119,
   "metadata": {},
   "outputs": [
    {
     "name": "stdout",
     "output_type": "stream",
     "text": [
      "O total de vendas de tv foi de: 29408.50, o total de radio foi: 4652.80, o de ventilador foi: 6110.80 e o de geladeira foi: 3026.10\n"
     ]
    }
   ],
   "source": [
    "access_json = data_api.json()\n",
    "total_tv = access_json['Total_tv']\n",
    "total_radio = access_json['Total_radio']\n",
    "total_ventilador = access_json['Total_ventilador']\n",
    "total_geladeira = access_json['Total_geladeira']\n",
    "\n",
    "print(\"O total de vendas de tv foi de: %.2f, o total de radio foi: %.2f, o de ventilador foi: %.2f e o de geladeira foi: %.2f\"%(total_tv,total_radio,total_ventilador,total_geladeira))"
   ]
  },
  {
   "cell_type": "markdown",
   "metadata": {},
   "source": [
    "# Creating the dataframe"
   ]
  },
  {
   "cell_type": "code",
   "execution_count": 121,
   "metadata": {},
   "outputs": [],
   "source": [
    "lst = [[total_tv,total_radio,total_ventilador,total_geladeira]]\n",
    "df = pd.DataFrame(lst, columns=['TV','Radio','Ventilador','Geladeira'])"
   ]
  },
  {
   "cell_type": "code",
   "execution_count": 122,
   "metadata": {},
   "outputs": [
    {
     "data": {
      "text/html": [
       "<div>\n",
       "<style scoped>\n",
       "    .dataframe tbody tr th:only-of-type {\n",
       "        vertical-align: middle;\n",
       "    }\n",
       "\n",
       "    .dataframe tbody tr th {\n",
       "        vertical-align: top;\n",
       "    }\n",
       "\n",
       "    .dataframe thead th {\n",
       "        text-align: right;\n",
       "    }\n",
       "</style>\n",
       "<table border=\"1\" class=\"dataframe\">\n",
       "  <thead>\n",
       "    <tr style=\"text-align: right;\">\n",
       "      <th></th>\n",
       "      <th>TV</th>\n",
       "      <th>Radio</th>\n",
       "      <th>Ventilador</th>\n",
       "      <th>Geladeira</th>\n",
       "    </tr>\n",
       "  </thead>\n",
       "  <tbody>\n",
       "    <tr>\n",
       "      <th>0</th>\n",
       "      <td>29408.5</td>\n",
       "      <td>4652.8</td>\n",
       "      <td>6110.8</td>\n",
       "      <td>3026.1</td>\n",
       "    </tr>\n",
       "  </tbody>\n",
       "</table>\n",
       "</div>"
      ],
      "text/plain": [
       "        TV   Radio  Ventilador  Geladeira\n",
       "0  29408.5  4652.8      6110.8     3026.1"
      ]
     },
     "execution_count": 122,
     "metadata": {},
     "output_type": "execute_result"
    }
   ],
   "source": [
    "df"
   ]
  },
  {
   "cell_type": "code",
   "execution_count": 123,
   "metadata": {},
   "outputs": [
    {
     "data": {
      "text/plain": [
       "TV            float64\n",
       "Radio         float64\n",
       "Ventilador    float64\n",
       "Geladeira     float64\n",
       "dtype: object"
      ]
     },
     "execution_count": 123,
     "metadata": {},
     "output_type": "execute_result"
    }
   ],
   "source": [
    "df.dtypes"
   ]
  },
  {
   "cell_type": "code",
   "execution_count": 126,
   "metadata": {},
   "outputs": [
    {
     "data": {
      "text/html": [
       "<div>\n",
       "<style scoped>\n",
       "    .dataframe tbody tr th:only-of-type {\n",
       "        vertical-align: middle;\n",
       "    }\n",
       "\n",
       "    .dataframe tbody tr th {\n",
       "        vertical-align: top;\n",
       "    }\n",
       "\n",
       "    .dataframe thead th {\n",
       "        text-align: right;\n",
       "    }\n",
       "</style>\n",
       "<table border=\"1\" class=\"dataframe\">\n",
       "  <thead>\n",
       "    <tr style=\"text-align: right;\">\n",
       "      <th></th>\n",
       "      <th>TV</th>\n",
       "      <th>Radio</th>\n",
       "      <th>Ventilador</th>\n",
       "      <th>Geladeira</th>\n",
       "      <th>Total</th>\n",
       "    </tr>\n",
       "  </thead>\n",
       "  <tbody>\n",
       "    <tr>\n",
       "      <th>0</th>\n",
       "      <td>29408.5</td>\n",
       "      <td>4652.8</td>\n",
       "      <td>6110.8</td>\n",
       "      <td>3026.1</td>\n",
       "      <td>43198.2</td>\n",
       "    </tr>\n",
       "  </tbody>\n",
       "</table>\n",
       "</div>"
      ],
      "text/plain": [
       "        TV   Radio  Ventilador  Geladeira    Total\n",
       "0  29408.5  4652.8      6110.8     3026.1  43198.2"
      ]
     },
     "execution_count": 126,
     "metadata": {},
     "output_type": "execute_result"
    }
   ],
   "source": [
    "df['Total'] = df['TV'] + df['Radio'] + df['Ventilador'] + df['Geladeira']\n",
    "df"
   ]
  },
  {
   "cell_type": "markdown",
   "metadata": {},
   "source": [
    "# Visualization and analysis"
   ]
  },
  {
   "cell_type": "code",
   "execution_count": 129,
   "metadata": {},
   "outputs": [
    {
     "data": {
      "image/png": "[encoded data removed]",
      "text/plain": [
       "<Figure size 432x288 with 1 Axes>"
      ]
     },
     "metadata": {
      "needs_background": "light"
     },
     "output_type": "display_data"
    }
   ],
   "source": [
    "mp.bar(\"TV\",df['TV'], label=df['TV'].sum().round())\n",
    "mp.bar(\"Radio\",df['Radio'],label=df['Radio'].sum().round())\n",
    "mp.bar(\"Ventilador\",df['Ventilador'],label=df['Ventilador'].sum().round())\n",
    "mp.bar(\"Geladeira\",df['Geladeira'],label=df['Geladeira'].sum().round())\n",
    "mp.bar(\"Total de Vendas\",df['Total'],label=df['Total'].sum().round())\n",
    "mp.title(\"Vendas por elementos e total de vendas\")\n",
    "mp.legend()\n",
    "mp.show()"
   ]
  },
  {
   "cell_type": "code",
   "execution_count": null,
   "metadata": {},
   "outputs": [],
   "source": []
  }
 ],
 "metadata": {
  "kernelspec": {
   "display_name": "Python 3",
   "language": "python",
   "name": "python3"
  },
  "language_info": {
   "codemirror_mode": {
    "name": "ipython",
    "version": 3
   },
   "file_extension": ".py",
   "mimetype": "text/x-python",
   "name": "python",
   "nbconvert_exporter": "python",
   "pygments_lexer": "ipython3",
   "version": "3.8.5"
  }
 },
 "nbformat": 4,
 "nbformat_minor": 4
}
